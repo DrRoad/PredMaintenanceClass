{
 "cells": [
  {
   "cell_type": "code",
   "execution_count": 1,
   "metadata": {},
   "outputs": [],
   "source": [
    "from sklearn import svm\n",
    "from sklearn import datasets\n",
    "from sklearn.ensemble import RandomForestClassifier\n",
    "%matplotlib inline\n",
    "import matplotlib.pyplot as plt\n",
    "import numpy as np"
   ]
  },
  {
   "cell_type": "markdown",
   "metadata": {},
   "source": [
    "# The digits dataset"
   ]
  },
  {
   "cell_type": "code",
   "execution_count": 2,
   "metadata": {},
   "outputs": [
    {
     "name": "stdout",
     "output_type": "stream",
     "text": [
      "data shape: (1797, 64)\n",
      "images shape: (1797, 8, 8)\n",
      "classes shape: (1797,)\n",
      "classes: [0 1 2 3 4 5 6 7 8 9]\n"
     ]
    },
    {
     "data": {
      "text/plain": [
       "<matplotlib.figure.Figure at 0x7f3eeb2e8320>"
      ]
     },
     "metadata": {},
     "output_type": "display_data"
    },
    {
     "data": {
      "image/png": "[encoded data removed]",
      "text/plain": [
       "<matplotlib.figure.Figure at 0x7f3f145ed6d8>"
      ]
     },
     "metadata": {},
     "output_type": "display_data"
    },
    {
     "data": {
      "image/png": "[encoded data removed]",
      "text/plain": [
       "<matplotlib.figure.Figure at 0x7f3eeb2a9160>"
      ]
     },
     "metadata": {},
     "output_type": "display_data"
    },
    {
     "data": {
      "image/png": "[encoded data removed]",
      "text/plain": [
       "<matplotlib.figure.Figure at 0x7f3eed30e898>"
      ]
     },
     "metadata": {},
     "output_type": "display_data"
    }
   ],
   "source": [
    "%matplotlib inline\n",
    "digits = datasets.load_digits()\n",
    "print(\"data shape:\", digits.data.shape)\n",
    "print(\"images shape:\", digits.images.shape)\n",
    "print(\"classes shape:\", digits.target.shape)\n",
    "print(\"classes:\", digits.target_names)\n",
    "\n",
    "Xtrain = digits.data[:1000,:]\n",
    "ytrain = digits.target[:1000]\n",
    "Xtest = digits.data[1000:,:]\n",
    "ytest = digits.target[1000:]\n",
    "\n",
    "plt.gray()\n",
    "plt.matshow(digits.images[0])\n",
    "plt.show()\n",
    "plt.matshow(digits.images[15]) \n",
    "plt.show()\n",
    "plt.matshow(digits.images[42]) \n",
    "plt.show()"
   ]
  },
  {
   "cell_type": "code",
   "execution_count": 3,
   "metadata": {},
   "outputs": [
    {
     "name": "stdout",
     "output_type": "stream",
     "text": [
      "(1000, 64)\n",
      "(1000,)\n",
      "Training error: 0.001\n",
      "Generalization error: 0.030112923463\n"
     ]
    }
   ],
   "source": [
    "print(Xtrain.shape)\n",
    "print(ytrain.shape)\n",
    "digitSVC = svm.SVC(kernel='rbf',gamma=0.001)\n",
    "digitSVC.fit(Xtrain,ytrain)\n",
    "prediction = digitSVC.predict(Xtrain)\n",
    "print(\"Training error:\", np.sum(np.not_equal(prediction,ytrain))/len(ytrain) )\n",
    "prediction = digitSVC.predict(Xtest)\n",
    "print(\"Generalization error:\", np.sum(np.not_equal(prediction,ytest))/len(ytest) )"
   ]
  },
  {
   "cell_type": "code",
   "execution_count": 4,
   "metadata": {},
   "outputs": [
    {
     "name": "stdout",
     "output_type": "stream",
     "text": [
      "Training error: 0.001\n",
      "Generalization error: 0.069008782936\n"
     ]
    }
   ],
   "source": [
    "digitRF = RandomForestClassifier(n_estimators=300, criterion='entropy')\n",
    "digitRF.fit(Xtrain,ytrain)\n",
    "prediction = digitSVC.predict(Xtrain)\n",
    "print(\"Training error:\", np.sum(np.not_equal(prediction,ytrain))/len(ytrain) )\n",
    "prediction = digitRF.predict(Xtest)\n",
    "print(\"Generalization error:\", np.sum(np.not_equal(prediction,ytest))/len(ytest) )"
   ]
  },
  {
   "cell_type": "code",
   "execution_count": 5,
   "metadata": {},
   "outputs": [
    {
     "data": {
      "image/png": "[encoded data removed]",
      "text/plain": [
       "<matplotlib.figure.Figure at 0x7f3eeb00ef28>"
      ]
     },
     "metadata": {},
     "output_type": "display_data"
    },
    {
     "name": "stdout",
     "output_type": "stream",
     "text": [
      "SVM prediction on image number 1052 : [3]\n",
      "RF  prediction on image number 1052 : [3]\n",
      "correct label                       : 3\n"
     ]
    }
   ],
   "source": [
    "# Examples\n",
    "N = 1052\n",
    "plt.matshow(digits.images[N]) \n",
    "plt.show() \n",
    "x = digits.data[N,:]\n",
    "print(\"SVM prediction on image number\", N, \":\", digitSVC.predict([digits.data[N,:]]))\n",
    "print(\"RF  prediction on image number\", N, \":\", digitRF.predict([digits.data[N,:]]))\n",
    "print(\"correct label                       :\", digits.target[N])"
   ]
  },
  {
   "cell_type": "code",
   "execution_count": 6,
   "metadata": {},
   "outputs": [],
   "source": [
    "# Find misclassified examples\n",
    "misclass = np.not_equal(digitRF.predict(Xtest), ytest)\n",
    "Itest = digits.images[1000:,:]\n",
    "Xmisclass = Xtest[misclass,:]\n",
    "ymisclass = ytest[misclass]\n",
    "Imisclass = Itest[misclass,:]"
   ]
  },
  {
   "cell_type": "code",
   "execution_count": 7,
   "metadata": {},
   "outputs": [
    {
     "data": {
      "image/png": "[encoded data removed]",
      "text/plain": [
       "<matplotlib.figure.Figure at 0x7f3eeb04f630>"
      ]
     },
     "metadata": {},
     "output_type": "display_data"
    },
    {
     "name": "stdout",
     "output_type": "stream",
     "text": [
      "SVM prediction on image number 5 : [7]\n",
      "RF  prediction on image number 5 : [7]\n",
      "correct label                    : 3\n"
     ]
    }
   ],
   "source": [
    "# Display misclassified examples\n",
    "N = 5\n",
    "plt.matshow(Imisclass[N]) \n",
    "plt.show() \n",
    "print(\"SVM prediction on image number\", N, \":\", digitSVC.predict([Xmisclass[N,:]]))\n",
    "print(\"RF  prediction on image number\", N, \":\", digitRF.predict([Xmisclass[N,:]]))\n",
    "print(\"correct label                    :\", ymisclass[N])"
   ]
  },
  {
   "cell_type": "code",
   "execution_count": null,
   "metadata": {},
   "outputs": [],
   "source": []
  }
 ],
 "metadata": {
  "anaconda-cloud": {},
  "kernelspec": {
   "display_name": "Python [default]",
   "language": "python",
   "name": "python3"
  },
  "language_info": {
   "codemirror_mode": {
    "name": "ipython",
    "version": 3
   },
   "file_extension": ".py",
   "mimetype": "text/x-python",
   "name": "python",
   "nbconvert_exporter": "python",
   "pygments_lexer": "ipython3",
   "version": "3.5.4"
  }
 },
 "nbformat": 4,
 "nbformat_minor": 1
}
